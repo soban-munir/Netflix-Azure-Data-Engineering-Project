{
 "cells": [
  {
   "cell_type": "markdown",
   "metadata": {
    "application/vnd.databricks.v1+cell": {
     "cellMetadata": {},
     "inputWidgets": {},
     "nuid": "0b4f6579-ce07-4611-bb5b-eaf96c674ba9",
     "showTitle": false,
     "tableResultSettingsMap": {},
     "title": ""
    }
   },
   "source": [
    "# DLT Notebook - GOLD LAYER"
   ]
  },
  {
   "cell_type": "code",
   "execution_count": 0,
   "metadata": {
    "application/vnd.databricks.v1+cell": {
     "cellMetadata": {},
     "inputWidgets": {},
     "nuid": "67cfbb62-b871-4b14-8c81-7d0a673b5187",
     "showTitle": false,
     "tableResultSettingsMap": {},
     "title": ""
    }
   },
   "outputs": [],
   "source": [
    "looktables_rules = {\n",
    "    \"rule1\" : \"show_id is NOT NULL\"\n",
    "}"
   ]
  },
  {
   "cell_type": "code",
   "execution_count": 0,
   "metadata": {
    "application/vnd.databricks.v1+cell": {
     "cellMetadata": {},
     "inputWidgets": {},
     "nuid": "21fde143-1965-4a72-b2a9-63f4830629dc",
     "showTitle": false,
     "tableResultSettingsMap": {},
     "title": ""
    }
   },
   "outputs": [],
   "source": [
    "@dlt.table(\n",
    "    name = \"gold_netflixdirectors\"\n",
    ")\n",
    "@dlt.expect_all_or_drop(looktables_rules)\n",
    "def myfunc():\n",
    "    df = spark.readStream.format(\"delta\").load(\"abfss://silver@netflixprojectsm.dfs.core.windows.net/netflix_directors\")\n",
    "    return df"
   ]
  },
  {
   "cell_type": "code",
   "execution_count": 0,
   "metadata": {
    "application/vnd.databricks.v1+cell": {
     "cellMetadata": {},
     "inputWidgets": {},
     "nuid": "a2ccedf4-11ce-4a9a-9bd1-e41a32bae825",
     "showTitle": false,
     "tableResultSettingsMap": {},
     "title": ""
    }
   },
   "outputs": [],
   "source": [
    "@dlt.table(\n",
    "    name = \"gold_netflixcast\"\n",
    ")\n",
    "@dlt.expect_all_or_drop(looktables_rules)\n",
    "def myfunc():\n",
    "    df = spark.readStream.format(\"delta\").load(\"abfss://silver@netflixprojectsm.dfs.core.windows.net/netflix_cast\")\n",
    "    return df"
   ]
  },
  {
   "cell_type": "code",
   "execution_count": 0,
   "metadata": {
    "application/vnd.databricks.v1+cell": {
     "cellMetadata": {},
     "inputWidgets": {},
     "nuid": "51977987-c378-4f5d-881b-28279978257c",
     "showTitle": false,
     "tableResultSettingsMap": {},
     "title": ""
    }
   },
   "outputs": [],
   "source": [
    "@dlt.table(\n",
    "    name = \"gold_netflixcountries\"\n",
    ")\n",
    "@dlt.expect_all_or_drop(looktables_rules)\n",
    "def myfunc():\n",
    "    df = spark.readStream.format(\"delta\").load(\"abfss://silver@netflixprojectsm.dfs.core.windows.net/netflix_countries\")\n",
    "    return df"
   ]
  },
  {
   "cell_type": "code",
   "execution_count": 0,
   "metadata": {
    "application/vnd.databricks.v1+cell": {
     "cellMetadata": {},
     "inputWidgets": {},
     "nuid": "05bb3a10-037b-475c-8697-603ac380bd5f",
     "showTitle": false,
     "tableResultSettingsMap": {},
     "title": ""
    }
   },
   "outputs": [],
   "source": [
    "@dlt.table(\n",
    "    name = \"gold_netflixcategory\"\n",
    ")\n",
    "@dlt.expect_or_drop(\"rule1\",\"show_id is NOT NULL\")\n",
    "def myfunc():\n",
    "    df = spark.readStream.format(\"delta\").load(\"abfss://silver@netflixprojectsm.dfs.core.windows.net/netflix_category\")\n",
    "    return df"
   ]
  },
  {
   "cell_type": "code",
   "execution_count": 0,
   "metadata": {
    "application/vnd.databricks.v1+cell": {
     "cellMetadata": {},
     "inputWidgets": {},
     "nuid": "20b5497c-1858-492f-be80-8041954067ad",
     "showTitle": false,
     "tableResultSettingsMap": {},
     "title": ""
    }
   },
   "outputs": [],
   "source": [
    "import dlt\n",
    "from pyspark.sql.functions import lit\n",
    "\n",
    "@dlt.table\n",
    "def gold_stg_netflixtitles():\n",
    "    return (\n",
    "        spark.readStream\n",
    "        .format(\"delta\")\n",
    "        .load(\"abfss://silver@netflixprojectsm.dfs.core.windows.net/netflix_titles\")\n",
    "    )"
   ]
  },
  {
   "cell_type": "code",
   "execution_count": 0,
   "metadata": {
    "application/vnd.databricks.v1+cell": {
     "cellMetadata": {},
     "inputWidgets": {},
     "nuid": "d24a1822-df76-4d9e-a510-68bedf5e749d",
     "showTitle": false,
     "tableResultSettingsMap": {},
     "title": ""
    }
   },
   "outputs": [],
   "source": [
    "from pyspark.sql.functions import *"
   ]
  },
  {
   "cell_type": "code",
   "execution_count": 0,
   "metadata": {
    "application/vnd.databricks.v1+cell": {
     "cellMetadata": {},
     "inputWidgets": {},
     "nuid": "625b2d53-83a2-46ff-907e-8bc0cc3ce8db",
     "showTitle": false,
     "tableResultSettingsMap": {},
     "title": ""
    }
   },
   "outputs": [],
   "source": [
    "@dlt.table   # view bhi theek hai, par table rakhne se lineage stable hoti hai\n",
    "def gold_trans_netflixtitles():\n",
    "    df = dlt.read(\"gold_stg_netflixtitles\")   # \uD83D\uDC48 yahan change\n",
    "    df = df.withColumn(\"net_flag\", lit(1))\n",
    "    return df"
   ]
  },
  {
   "cell_type": "code",
   "execution_count": 0,
   "metadata": {
    "application/vnd.databricks.v1+cell": {
     "cellMetadata": {},
     "inputWidgets": {},
     "nuid": "121fa3fc-8ef7-41fc-82b2-8be561f893eb",
     "showTitle": false,
     "tableResultSettingsMap": {},
     "title": ""
    }
   },
   "outputs": [],
   "source": [
    "masterdata_rules= {\n",
    "    \"rule1\" : \"net_flag is NOT NULL\",\n",
    "    \"rule2\" : \"show_id is NOT NULL\"\n",
    "    }"
   ]
  },
  {
   "cell_type": "code",
   "execution_count": 0,
   "metadata": {
    "application/vnd.databricks.v1+cell": {
     "cellMetadata": {},
     "inputWidgets": {},
     "nuid": "648daef4-01b8-4794-b5e1-cc0755f9ff92",
     "showTitle": false,
     "tableResultSettingsMap": {},
     "title": ""
    }
   },
   "outputs": [],
   "source": [
    "@dlt.table\n",
    "@dlt.expect_all_or_drop(masterdata_rules)\n",
    "def gold_netflixtitles():\n",
    "    df = dlt.read(\"gold_trans_netflixtitles\")   # \uD83D\uDC48 yahan change\n",
    "    return df"
   ]
  }
 ],
 "metadata": {
  "application/vnd.databricks.v1+notebook": {
   "computePreferences": null,
   "dashboards": [],
   "environmentMetadata": {
    "base_environment": "",
    "environment_version": "4"
   },
   "inputWidgetPreferences": null,
   "language": "python",
   "notebookMetadata": {
    "pythonIndentUnit": 4
   },
   "notebookName": "7_DLT_Notebook",
   "widgets": {}
  },
  "language_info": {
   "name": "python"
  }
 },
 "nbformat": 4,
 "nbformat_minor": 0
}